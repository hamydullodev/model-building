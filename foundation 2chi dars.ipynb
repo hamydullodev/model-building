{
 "cells": [
  {
   "cell_type": "code",
   "execution_count": 11,
   "id": "b301e554",
   "metadata": {},
   "outputs": [
    {
     "name": "stdout",
     "output_type": "stream",
     "text": [
      "musbat\n"
     ]
    }
   ],
   "source": [
    "a=5\n",
    "if a>0:\n",
    "    print('musbat')\n",
    "else:\n",
    "    print('manfiy')"
   ]
  },
  {
   "cell_type": "code",
   "execution_count": 12,
   "id": "bf6090f6",
   "metadata": {},
   "outputs": [
    {
     "name": "stdout",
     "output_type": "stream",
     "text": [
      "manfiy\n"
     ]
    }
   ],
   "source": [
    "b=-4\n",
    "if b>0:\n",
    "    print('musbat')\n",
    "if b<0:\n",
    "    print('manfiy')\n",
    "else:\n",
    "    print('0 ga teng')"
   ]
  },
  {
   "cell_type": "code",
   "execution_count": 16,
   "id": "4f78a5b8",
   "metadata": {},
   "outputs": [
    {
     "name": "stdout",
     "output_type": "stream",
     "text": [
      "b son katta\n"
     ]
    }
   ],
   "source": [
    "a=7\n",
    "b=8\n",
    "if a>b:\n",
    "    print('a katta')\n",
    "elif a<b:\n",
    "    print('b son katta')\n",
    "else:\n",
    "    print('ikkala son teng')"
   ]
  },
  {
   "cell_type": "code",
   "execution_count": 19,
   "id": "1baf7755",
   "metadata": {},
   "outputs": [
    {
     "name": "stdout",
     "output_type": "stream",
     "text": [
      "toq\n"
     ]
    }
   ],
   "source": [
    "son=7\n",
    "if son%2==0:\n",
    "    print('juft')\n",
    "else:\n",
    "    print('toq')"
   ]
  },
  {
   "cell_type": "code",
   "execution_count": 20,
   "id": "74732b0b",
   "metadata": {},
   "outputs": [
    {
     "name": "stdout",
     "output_type": "stream",
     "text": [
      "3 ga bolinmaydi\n"
     ]
    }
   ],
   "source": [
    "son=8\n",
    "if son%3==0:\n",
    "    print('3 ga bolinadi')\n",
    "else:\n",
    "    print('3 ga bolinmaydi')"
   ]
  },
  {
   "cell_type": "code",
   "execution_count": 25,
   "id": "9544ef0f",
   "metadata": {},
   "outputs": [
    {
     "name": "stdout",
     "output_type": "stream",
     "text": [
      "10 dan kichik\n"
     ]
    }
   ],
   "source": [
    "a=5\n",
    "b=6\n",
    "if a+b<10:\n",
    "    print('10 dan katta')\n",
    "elif a+b>10:\n",
    "    print('10 dan kichik')"
   ]
  },
  {
   "cell_type": "code",
   "execution_count": 26,
   "id": "95367965",
   "metadata": {},
   "outputs": [
    {
     "name": "stdout",
     "output_type": "stream",
     "text": [
      "son nolga teng emas\n"
     ]
    }
   ],
   "source": [
    "son==5\n",
    "if son==0:\n",
    "    print(\"son nolga teng\")\n",
    "else:\n",
    "    print('son nolga teng emas')"
   ]
  },
  {
   "cell_type": "code",
   "execution_count": 28,
   "id": "dc3ab6b9",
   "metadata": {},
   "outputs": [
    {
     "name": "stdout",
     "output_type": "stream",
     "text": [
      "voyaga yetgan\n"
     ]
    }
   ],
   "source": [
    "yosh=23\n",
    "if yosh>18:\n",
    "    print('voyaga yetgan')\n",
    "else:\n",
    "    print('voyaga yetmagan')"
   ]
  },
  {
   "cell_type": "code",
   "execution_count": 29,
   "id": "33ea2645",
   "metadata": {},
   "outputs": [
    {
     "name": "stdout",
     "output_type": "stream",
     "text": [
      "sonlar ozaro tengsiz\n"
     ]
    }
   ],
   "source": [
    "son1=12\n",
    "son2=13\n",
    "if son1==son2:\n",
    "    print('sonlar ozaro teng')\n",
    "else:\n",
    "    print('sonlar ozaro tengsiz')"
   ]
  },
  {
   "cell_type": "code",
   "execution_count": 30,
   "id": "61bedd68",
   "metadata": {},
   "outputs": [
    {
     "name": "stdout",
     "output_type": "stream",
     "text": [
      "teng yonli\n"
     ]
    }
   ],
   "source": [
    "a=5\n",
    "b=5\n",
    "c=6\n",
    "if a==b:\n",
    "    print('teng yonli')\n",
    "elif a==b==c:\n",
    "    print('teng tomonli')\n",
    "else:\n",
    "    print(\"turli tomonli\")"
   ]
  },
  {
   "cell_type": "code",
   "execution_count": 35,
   "id": "dcced263",
   "metadata": {},
   "outputs": [
    {
     "name": "stdout",
     "output_type": "stream",
     "text": [
      "bolinadi\n"
     ]
    }
   ],
   "source": [
    "son=10\n",
    "if son%5==0:\n",
    "    print('bolinadi')\n",
    "elif son%2==0:\n",
    "    print('boinadi')\n",
    "else:\n",
    "    print('son bolinmaydi')"
   ]
  },
  {
   "cell_type": "code",
   "execution_count": 36,
   "id": "0fedd9db",
   "metadata": {},
   "outputs": [
    {
     "name": "stdout",
     "output_type": "stream",
     "text": [
      "sovuq\n"
     ]
    }
   ],
   "source": [
    "harorat=-10\n",
    "if harorat<0:\n",
    "    print('sovuq')\n",
    "elif harorat>0:\n",
    "    print('issiq')"
   ]
  },
  {
   "cell_type": "code",
   "execution_count": null,
   "id": "8b236a42",
   "metadata": {},
   "outputs": [],
   "source": []
  }
 ],
 "metadata": {
  "kernelspec": {
   "display_name": "Python 3",
   "language": "python",
   "name": "python3"
  },
  "language_info": {
   "codemirror_mode": {
    "name": "ipython",
    "version": 3
   },
   "file_extension": ".py",
   "mimetype": "text/x-python",
   "name": "python",
   "nbconvert_exporter": "python",
   "pygments_lexer": "ipython3",
   "version": "3.13.4"
  }
 },
 "nbformat": 4,
 "nbformat_minor": 5
}
